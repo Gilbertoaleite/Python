{
 "cells": [
  {
   "cell_type": "code",
   "execution_count": 1,
   "id": "7eb4f003-30c8-41d9-b425-3e3aeaa6f797",
   "metadata": {},
   "outputs": [],
   "source": [
    "import datetime"
   ]
  },
  {
   "cell_type": "code",
   "execution_count": 2,
   "id": "89c986d1-88dc-4486-81aa-56ecf154cb08",
   "metadata": {},
   "outputs": [
    {
     "name": "stdout",
     "output_type": "stream",
     "text": [
      " Data é 2021-09-15 18:33:52.644299\n"
     ]
    }
   ],
   "source": [
    "dh = datetime.datetime.now()\n",
    "print(\" Data é \" +  str(dh))"
   ]
  },
  {
   "cell_type": "markdown",
   "id": "1a7b01a5-bbce-4412-9d94-2193bbac76c8",
   "metadata": {},
   "source": [
    " print( datetime.datetime.now() )"
   ]
  }
 ],
 "metadata": {
  "kernelspec": {
   "display_name": "Python 3",
   "language": "python",
   "name": "python3"
  },
  "language_info": {
   "codemirror_mode": {
    "name": "ipython",
    "version": 3
   },
   "file_extension": ".py",
   "mimetype": "text/x-python",
   "name": "python",
   "nbconvert_exporter": "python",
   "pygments_lexer": "ipython3",
   "version": "3.8.8"
  }
 },
 "nbformat": 4,
 "nbformat_minor": 5
}
