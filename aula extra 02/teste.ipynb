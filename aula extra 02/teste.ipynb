{
 "cells": [
  {
   "cell_type": "markdown",
   "id": "82035780-47f4-4f9e-b742-75a6e054ebd3",
   "metadata": {},
   "source": [
    "variaves n e m, não precisar escrever var"
   ]
  },
  {
   "cell_type": "code",
   "execution_count": 9,
   "id": "207984cf-1fcb-44cf-a104-952126b090a9",
   "metadata": {},
   "outputs": [],
   "source": [
    "n = 7"
   ]
  },
  {
   "cell_type": "code",
   "execution_count": 10,
   "id": "0bbdff53-d967-41f9-9bf7-16c28f4144f7",
   "metadata": {},
   "outputs": [],
   "source": [
    "m = 8"
   ]
  },
  {
   "cell_type": "code",
   "execution_count": 11,
   "id": "a14b6e7d-0d74-4c8b-9dbb-f89180feed84",
   "metadata": {},
   "outputs": [
    {
     "data": {
      "text/plain": [
       "15"
      ]
     },
     "execution_count": 11,
     "metadata": {},
     "output_type": "execute_result"
    }
   ],
   "source": [
    "n + m"
   ]
  },
  {
   "cell_type": "code",
   "execution_count": 12,
   "id": "476c3090-92a7-46ff-9d27-f5c35bab5ce8",
   "metadata": {},
   "outputs": [
    {
     "data": {
      "text/plain": [
       "56"
      ]
     },
     "execution_count": 12,
     "metadata": {},
     "output_type": "execute_result"
    }
   ],
   "source": [
    "n * m"
   ]
  },
  {
   "cell_type": "markdown",
   "id": "c18c9588-c8bb-4d50-aa26-b07a07b4a7b4",
   "metadata": {},
   "source": [
    "Exemploes de input:"
   ]
  },
  {
   "cell_type": "markdown",
   "id": "3f2696ad-f5c5-4fed-8dea-2f1e9a7def88",
   "metadata": {},
   "source": [
    "input(\"Tecle enter\")"
   ]
  },
  {
   "cell_type": "code",
   "execution_count": 20,
   "id": "8e1a15e0-3172-43b6-8234-438939b1b528",
   "metadata": {},
   "outputs": [
    {
     "name": "stdin",
     "output_type": "stream",
     "text": [
      "Qual é o seu nome? gilberto\n"
     ]
    },
    {
     "name": "stdout",
     "output_type": "stream",
     "text": [
      "O seu nome é gilberto\n"
     ]
    }
   ],
   "source": [
    "nome = input(\"Qual é o seu nome?\")\n",
    "print(\"O seu nome é \" + nome)"
   ]
  },
  {
   "cell_type": "code",
   "execution_count": 21,
   "id": "9a6096e6-c278-41de-9f37-85b77e7f636e",
   "metadata": {},
   "outputs": [
    {
     "name": "stdin",
     "output_type": "stream",
     "text": [
      "Qual é o seu endereço?  Rua davi\n"
     ]
    },
    {
     "name": "stdout",
     "output_type": "stream",
     "text": [
      "Seu nome é gilberto e seu endereço Rua davi\n"
     ]
    }
   ],
   "source": [
    "endereco = input(\"Qual é o seu endereço? \")\n",
    "print(\"Seu nome é \" + nome + \" e seu endereço \" + endereco )"
   ]
  },
  {
   "cell_type": "code",
   "execution_count": null,
   "id": "b7ac6eb7-9d00-49d5-b5b2-fca633c26fbb",
   "metadata": {},
   "outputs": [],
   "source": []
  }
 ],
 "metadata": {
  "kernelspec": {
   "display_name": "Python 3",
   "language": "python",
   "name": "python3"
  },
  "language_info": {
   "codemirror_mode": {
    "name": "ipython",
    "version": 3
   },
   "file_extension": ".py",
   "mimetype": "text/x-python",
   "name": "python",
   "nbconvert_exporter": "python",
   "pygments_lexer": "ipython3",
   "version": "3.8.8"
  }
 },
 "nbformat": 4,
 "nbformat_minor": 5
}
